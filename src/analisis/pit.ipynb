{
 "cells": [
  {
   "cell_type": "code",
   "execution_count": 25,
   "metadata": {},
   "outputs": [],
   "source": [
    "import pandas as pd\n",
    "import matplotlib.pyplot as plt\n",
    "from scipy import stats"
   ]
  },
  {
   "cell_type": "code",
   "execution_count": 26,
   "metadata": {},
   "outputs": [],
   "source": [
    "df = pd.read_csv(\"../../dataset/pompa-v2.csv\")"
   ]
  },
  {
   "cell_type": "code",
   "execution_count": 27,
   "metadata": {},
   "outputs": [
    {
     "data": {
      "text/html": [
       "<div>\n",
       "<style scoped>\n",
       "    .dataframe tbody tr th:only-of-type {\n",
       "        vertical-align: middle;\n",
       "    }\n",
       "\n",
       "    .dataframe tbody tr th {\n",
       "        vertical-align: top;\n",
       "    }\n",
       "\n",
       "    .dataframe thead th {\n",
       "        text-align: right;\n",
       "    }\n",
       "</style>\n",
       "<table border=\"1\" class=\"dataframe\">\n",
       "  <thead>\n",
       "    <tr style=\"text-align: right;\">\n",
       "      <th></th>\n",
       "      <th>timestamp</th>\n",
       "      <th>adc_actuator_pump</th>\n",
       "      <th>adc_level</th>\n",
       "      <th>adc_temp</th>\n",
       "      <th>adc_flow</th>\n",
       "      <th>adc_pressure_left</th>\n",
       "      <th>adc_pressure_right</th>\n",
       "      <th>level</th>\n",
       "      <th>temp</th>\n",
       "      <th>flow</th>\n",
       "      <th>pressure_left</th>\n",
       "      <th>pressure_right</th>\n",
       "    </tr>\n",
       "  </thead>\n",
       "  <tbody>\n",
       "    <tr>\n",
       "      <th>0</th>\n",
       "      <td>1682995718071563000</td>\n",
       "      <td>774.0</td>\n",
       "      <td>241.0</td>\n",
       "      <td>424.0</td>\n",
       "      <td>592.0</td>\n",
       "      <td>351.0</td>\n",
       "      <td>266.0</td>\n",
       "      <td>0.34</td>\n",
       "      <td>26.88</td>\n",
       "      <td>142.72</td>\n",
       "      <td>0.38</td>\n",
       "      <td>0.19</td>\n",
       "    </tr>\n",
       "    <tr>\n",
       "      <th>1</th>\n",
       "      <td>1682995719071057000</td>\n",
       "      <td>775.0</td>\n",
       "      <td>242.0</td>\n",
       "      <td>425.0</td>\n",
       "      <td>592.0</td>\n",
       "      <td>351.0</td>\n",
       "      <td>261.0</td>\n",
       "      <td>0.35</td>\n",
       "      <td>27.00</td>\n",
       "      <td>142.72</td>\n",
       "      <td>0.38</td>\n",
       "      <td>0.17</td>\n",
       "    </tr>\n",
       "    <tr>\n",
       "      <th>2</th>\n",
       "      <td>1682995720074546000</td>\n",
       "      <td>775.0</td>\n",
       "      <td>243.0</td>\n",
       "      <td>424.0</td>\n",
       "      <td>590.0</td>\n",
       "      <td>348.0</td>\n",
       "      <td>262.0</td>\n",
       "      <td>0.36</td>\n",
       "      <td>26.88</td>\n",
       "      <td>141.99</td>\n",
       "      <td>0.38</td>\n",
       "      <td>0.18</td>\n",
       "    </tr>\n",
       "    <tr>\n",
       "      <th>3</th>\n",
       "      <td>1682995721074034000</td>\n",
       "      <td>775.0</td>\n",
       "      <td>244.0</td>\n",
       "      <td>424.0</td>\n",
       "      <td>582.0</td>\n",
       "      <td>351.0</td>\n",
       "      <td>265.0</td>\n",
       "      <td>0.37</td>\n",
       "      <td>26.88</td>\n",
       "      <td>139.05</td>\n",
       "      <td>0.38</td>\n",
       "      <td>0.18</td>\n",
       "    </tr>\n",
       "    <tr>\n",
       "      <th>4</th>\n",
       "      <td>1682995722073347000</td>\n",
       "      <td>774.0</td>\n",
       "      <td>243.0</td>\n",
       "      <td>425.0</td>\n",
       "      <td>585.0</td>\n",
       "      <td>354.0</td>\n",
       "      <td>260.0</td>\n",
       "      <td>0.36</td>\n",
       "      <td>27.00</td>\n",
       "      <td>140.15</td>\n",
       "      <td>0.39</td>\n",
       "      <td>0.17</td>\n",
       "    </tr>\n",
       "  </tbody>\n",
       "</table>\n",
       "</div>"
      ],
      "text/plain": [
       "             timestamp  adc_actuator_pump  adc_level  adc_temp  adc_flow  \\\n",
       "0  1682995718071563000              774.0      241.0     424.0     592.0   \n",
       "1  1682995719071057000              775.0      242.0     425.0     592.0   \n",
       "2  1682995720074546000              775.0      243.0     424.0     590.0   \n",
       "3  1682995721074034000              775.0      244.0     424.0     582.0   \n",
       "4  1682995722073347000              774.0      243.0     425.0     585.0   \n",
       "\n",
       "   adc_pressure_left  adc_pressure_right  level   temp    flow  pressure_left  \\\n",
       "0              351.0               266.0   0.34  26.88  142.72           0.38   \n",
       "1              351.0               261.0   0.35  27.00  142.72           0.38   \n",
       "2              348.0               262.0   0.36  26.88  141.99           0.38   \n",
       "3              351.0               265.0   0.37  26.88  139.05           0.38   \n",
       "4              354.0               260.0   0.36  27.00  140.15           0.39   \n",
       "\n",
       "   pressure_right  \n",
       "0            0.19  \n",
       "1            0.17  \n",
       "2            0.18  \n",
       "3            0.18  \n",
       "4            0.17  "
      ]
     },
     "execution_count": 27,
     "metadata": {},
     "output_type": "execute_result"
    }
   ],
   "source": [
    "df.head()"
   ]
  },
  {
   "cell_type": "code",
   "execution_count": 28,
   "metadata": {},
   "outputs": [
    {
     "data": {
      "text/html": [
       "<div>\n",
       "<style scoped>\n",
       "    .dataframe tbody tr th:only-of-type {\n",
       "        vertical-align: middle;\n",
       "    }\n",
       "\n",
       "    .dataframe tbody tr th {\n",
       "        vertical-align: top;\n",
       "    }\n",
       "\n",
       "    .dataframe thead th {\n",
       "        text-align: right;\n",
       "    }\n",
       "</style>\n",
       "<table border=\"1\" class=\"dataframe\">\n",
       "  <thead>\n",
       "    <tr style=\"text-align: right;\">\n",
       "      <th></th>\n",
       "      <th>timestamp</th>\n",
       "      <th>adc_actuator_pump</th>\n",
       "      <th>adc_level</th>\n",
       "      <th>adc_temp</th>\n",
       "      <th>adc_flow</th>\n",
       "      <th>adc_pressure_left</th>\n",
       "      <th>adc_pressure_right</th>\n",
       "      <th>level</th>\n",
       "      <th>temp</th>\n",
       "      <th>flow</th>\n",
       "      <th>pressure_left</th>\n",
       "      <th>pressure_right</th>\n",
       "    </tr>\n",
       "  </thead>\n",
       "  <tbody>\n",
       "    <tr>\n",
       "      <th>count</th>\n",
       "      <td>2.192000e+04</td>\n",
       "      <td>21920.000000</td>\n",
       "      <td>21920.000000</td>\n",
       "      <td>21920.000000</td>\n",
       "      <td>21920.000000</td>\n",
       "      <td>21920.000000</td>\n",
       "      <td>21920.000000</td>\n",
       "      <td>21920.000000</td>\n",
       "      <td>21920.000000</td>\n",
       "      <td>21920.000000</td>\n",
       "      <td>21920.000000</td>\n",
       "      <td>21920.000000</td>\n",
       "    </tr>\n",
       "    <tr>\n",
       "      <th>mean</th>\n",
       "      <td>1.683007e+18</td>\n",
       "      <td>774.305246</td>\n",
       "      <td>485.446077</td>\n",
       "      <td>442.119936</td>\n",
       "      <td>591.841880</td>\n",
       "      <td>363.805703</td>\n",
       "      <td>266.119526</td>\n",
       "      <td>2.737928</td>\n",
       "      <td>29.020214</td>\n",
       "      <td>142.662244</td>\n",
       "      <td>0.413439</td>\n",
       "      <td>0.186536</td>\n",
       "    </tr>\n",
       "    <tr>\n",
       "      <th>std</th>\n",
       "      <td>6.335451e+12</td>\n",
       "      <td>1.183987</td>\n",
       "      <td>39.506423</td>\n",
       "      <td>5.736976</td>\n",
       "      <td>5.604357</td>\n",
       "      <td>4.707152</td>\n",
       "      <td>3.039837</td>\n",
       "      <td>0.387410</td>\n",
       "      <td>0.676978</td>\n",
       "      <td>2.055927</td>\n",
       "      <td>0.011413</td>\n",
       "      <td>0.008003</td>\n",
       "    </tr>\n",
       "    <tr>\n",
       "      <th>min</th>\n",
       "      <td>1.682996e+18</td>\n",
       "      <td>767.000000</td>\n",
       "      <td>241.000000</td>\n",
       "      <td>423.000000</td>\n",
       "      <td>568.000000</td>\n",
       "      <td>348.000000</td>\n",
       "      <td>254.000000</td>\n",
       "      <td>0.340000</td>\n",
       "      <td>26.760000</td>\n",
       "      <td>133.910000</td>\n",
       "      <td>0.380000</td>\n",
       "      <td>0.160000</td>\n",
       "    </tr>\n",
       "    <tr>\n",
       "      <th>25%</th>\n",
       "      <td>1.683001e+18</td>\n",
       "      <td>774.000000</td>\n",
       "      <td>471.000000</td>\n",
       "      <td>438.000000</td>\n",
       "      <td>588.000000</td>\n",
       "      <td>360.000000</td>\n",
       "      <td>264.000000</td>\n",
       "      <td>2.590000</td>\n",
       "      <td>28.530000</td>\n",
       "      <td>141.250000</td>\n",
       "      <td>0.400000</td>\n",
       "      <td>0.180000</td>\n",
       "    </tr>\n",
       "    <tr>\n",
       "      <th>50%</th>\n",
       "      <td>1.683007e+18</td>\n",
       "      <td>774.000000</td>\n",
       "      <td>497.000000</td>\n",
       "      <td>443.000000</td>\n",
       "      <td>592.000000</td>\n",
       "      <td>364.000000</td>\n",
       "      <td>266.000000</td>\n",
       "      <td>2.850000</td>\n",
       "      <td>29.120000</td>\n",
       "      <td>142.720000</td>\n",
       "      <td>0.410000</td>\n",
       "      <td>0.190000</td>\n",
       "    </tr>\n",
       "    <tr>\n",
       "      <th>75%</th>\n",
       "      <td>1.683012e+18</td>\n",
       "      <td>775.000000</td>\n",
       "      <td>509.000000</td>\n",
       "      <td>447.000000</td>\n",
       "      <td>596.000000</td>\n",
       "      <td>367.000000</td>\n",
       "      <td>268.000000</td>\n",
       "      <td>2.970000</td>\n",
       "      <td>29.600000</td>\n",
       "      <td>144.190000</td>\n",
       "      <td>0.420000</td>\n",
       "      <td>0.190000</td>\n",
       "    </tr>\n",
       "    <tr>\n",
       "      <th>max</th>\n",
       "      <td>1.683018e+18</td>\n",
       "      <td>780.000000</td>\n",
       "      <td>522.000000</td>\n",
       "      <td>454.000000</td>\n",
       "      <td>612.000000</td>\n",
       "      <td>378.000000</td>\n",
       "      <td>277.000000</td>\n",
       "      <td>3.090000</td>\n",
       "      <td>30.420000</td>\n",
       "      <td>150.060000</td>\n",
       "      <td>0.450000</td>\n",
       "      <td>0.210000</td>\n",
       "    </tr>\n",
       "  </tbody>\n",
       "</table>\n",
       "</div>"
      ],
      "text/plain": [
       "          timestamp  adc_actuator_pump     adc_level      adc_temp  \\\n",
       "count  2.192000e+04       21920.000000  21920.000000  21920.000000   \n",
       "mean   1.683007e+18         774.305246    485.446077    442.119936   \n",
       "std    6.335451e+12           1.183987     39.506423      5.736976   \n",
       "min    1.682996e+18         767.000000    241.000000    423.000000   \n",
       "25%    1.683001e+18         774.000000    471.000000    438.000000   \n",
       "50%    1.683007e+18         774.000000    497.000000    443.000000   \n",
       "75%    1.683012e+18         775.000000    509.000000    447.000000   \n",
       "max    1.683018e+18         780.000000    522.000000    454.000000   \n",
       "\n",
       "           adc_flow  adc_pressure_left  adc_pressure_right         level  \\\n",
       "count  21920.000000       21920.000000        21920.000000  21920.000000   \n",
       "mean     591.841880         363.805703          266.119526      2.737928   \n",
       "std        5.604357           4.707152            3.039837      0.387410   \n",
       "min      568.000000         348.000000          254.000000      0.340000   \n",
       "25%      588.000000         360.000000          264.000000      2.590000   \n",
       "50%      592.000000         364.000000          266.000000      2.850000   \n",
       "75%      596.000000         367.000000          268.000000      2.970000   \n",
       "max      612.000000         378.000000          277.000000      3.090000   \n",
       "\n",
       "               temp          flow  pressure_left  pressure_right  \n",
       "count  21920.000000  21920.000000   21920.000000    21920.000000  \n",
       "mean      29.020214    142.662244       0.413439        0.186536  \n",
       "std        0.676978      2.055927       0.011413        0.008003  \n",
       "min       26.760000    133.910000       0.380000        0.160000  \n",
       "25%       28.530000    141.250000       0.400000        0.180000  \n",
       "50%       29.120000    142.720000       0.410000        0.190000  \n",
       "75%       29.600000    144.190000       0.420000        0.190000  \n",
       "max       30.420000    150.060000       0.450000        0.210000  "
      ]
     },
     "execution_count": 28,
     "metadata": {},
     "output_type": "execute_result"
    }
   ],
   "source": [
    "df.describe()"
   ]
  },
  {
   "cell_type": "code",
   "execution_count": 29,
   "metadata": {},
   "outputs": [
    {
     "name": "stdout",
     "output_type": "stream",
     "text": [
      "21920\n"
     ]
    }
   ],
   "source": [
    "print(len(df))"
   ]
  },
  {
   "cell_type": "code",
   "execution_count": 30,
   "metadata": {},
   "outputs": [
    {
     "data": {
      "text/plain": [
       "<Axes: >"
      ]
     },
     "execution_count": 30,
     "metadata": {},
     "output_type": "execute_result"
    },
    {
     "data": {
      "image/png": "[encoded data removed]",
      "text/plain": [
       "<Figure size 640x480 with 1 Axes>"
      ]
     },
     "metadata": {},
     "output_type": "display_data"
    }
   ],
   "source": [
    "df[\"level\"].plot()\n",
    "\n",
    "# df.plot(subplots=True, figsize=(100, 50), linewidth=3)"
   ]
  },
  {
   "cell_type": "code",
   "execution_count": 31,
   "metadata": {},
   "outputs": [
    {
     "data": {
      "text/plain": [
       "<Axes: >"
      ]
     },
     "execution_count": 31,
     "metadata": {},
     "output_type": "execute_result"
    },
    {
     "data": {
      "image/png": "[encoded data removed]",
      "text/plain": [
       "<Figure size 640x480 with 1 Axes>"
      ]
     },
     "metadata": {},
     "output_type": "display_data"
    }
   ],
   "source": [
    "df[\"level\"][1500:].plot()"
   ]
  },
  {
   "cell_type": "code",
   "execution_count": 37,
   "metadata": {},
   "outputs": [],
   "source": [
    "df = df[1500:]\n",
    "n = len(df)\n",
    "train_df = df[0:int(n*0.8)]\n",
    "test_df = df[int(n*0.8):]"
   ]
  },
  {
   "cell_type": "code",
   "execution_count": 41,
   "metadata": {},
   "outputs": [
    {
     "name": "stdout",
     "output_type": "stream",
     "text": [
      "timestamp KstestResult(statistic=1.0, pvalue=0.0, statistic_location=1683013574341574000, statistic_sign=1)\n",
      "adc_actuator_pump KstestResult(statistic=0.1764201762977473, pvalue=2.061377783390628e-89, statistic_location=774.0, statistic_sign=-1)\n",
      "adc_level KstestResult(statistic=0.5817213516160626, pvalue=0.0, statistic_location=497.0, statistic_sign=1)\n",
      "adc_temp KstestResult(statistic=0.844086679725759, pvalue=0.0, statistic_location=446.0, statistic_sign=1)\n",
      "adc_flow KstestResult(statistic=0.07394711067580803, pvalue=5.556476582843971e-16, statistic_location=586.0, statistic_sign=1)\n",
      "adc_pressure_left KstestResult(statistic=0.15126101860920665, pvalue=1.0031471146896968e-65, statistic_location=360.0, statistic_sign=1)\n",
      "adc_pressure_right KstestResult(statistic=0.19760039177277178, pvalue=2.944600724580984e-112, statistic_location=264.0, statistic_sign=1)\n",
      "level KstestResult(statistic=0.5817213516160626, pvalue=0.0, statistic_location=2.85, statistic_sign=1)\n",
      "temp KstestResult(statistic=0.844086679725759, pvalue=0.0, statistic_location=29.48, statistic_sign=1)\n",
      "flow KstestResult(statistic=0.07394711067580803, pvalue=5.556476582843971e-16, statistic_location=140.52, statistic_sign=1)\n",
      "pressure_left KstestResult(statistic=0.15126101860920665, pvalue=1.0031471146896968e-65, statistic_location=0.4, statistic_sign=1)\n",
      "pressure_right KstestResult(statistic=0.18437806072477958, pvalue=1.1060257632987258e-97, statistic_location=0.18, statistic_sign=1)\n",
      "['adc_actuator_pump', 'adc_flow', 'adc_pressure_left', 'adc_pressure_right', 'flow', 'pressure_left', 'pressure_right']\n"
     ]
    }
   ],
   "source": [
    "features_considered = []\n",
    "for column in df.columns:\n",
    "  ks_result = stats.ks_2samp(train_df[column],test_df[column])\n",
    "  print(column, ks_result)\n",
    "  if (ks_result.statistic < 0.2):\n",
    "    features_considered.append(column)\n",
    "\n",
    "print(features_considered)"
   ]
  }
 ],
 "metadata": {
  "kernelspec": {
   "display_name": "env",
   "language": "python",
   "name": "python3"
  },
  "language_info": {
   "codemirror_mode": {
    "name": "ipython",
    "version": 3
   },
   "file_extension": ".py",
   "mimetype": "text/x-python",
   "name": "python",
   "nbconvert_exporter": "python",
   "pygments_lexer": "ipython3",
   "version": "3.9.0"
  },
  "orig_nbformat": 4
 },
 "nbformat": 4,
 "nbformat_minor": 2
}
