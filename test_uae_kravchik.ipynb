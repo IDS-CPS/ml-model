{
 "cells": [
  {
   "cell_type": "code",
   "execution_count": 1,
   "metadata": {},
   "outputs": [],
   "source": [
    "import pandas as pd\n",
    "import numpy as np\n",
    "import tensorflow as tf\n",
    "\n",
    "from argparse import ArgumentParser\n",
    "from scipy import stats\n",
    "from sklearn.preprocessing import StandardScaler, MinMaxScaler\n",
    "from tensorflow.keras import Model, layers"
   ]
  },
  {
   "cell_type": "code",
   "execution_count": 13,
   "metadata": {},
   "outputs": [],
   "source": [
    "model = tf.keras.models.load_model('model/autoencoder-kravchik-v2')"
   ]
  },
  {
   "cell_type": "code",
   "execution_count": 14,
   "metadata": {},
   "outputs": [
    {
     "name": "stdout",
     "output_type": "stream",
     "text": [
      "Model: \"autoencoder\"\n",
      "_________________________________________________________________\n",
      " Layer (type)                Output Shape              Param #   \n",
      "=================================================================\n",
      " encoder (Encoder)           multiple                  292656    \n",
      "                                                                 \n",
      " decoder (Decoder)           multiple                  292968    \n",
      "                                                                 \n",
      "=================================================================\n",
      "Total params: 585,624\n",
      "Trainable params: 585,624\n",
      "Non-trainable params: 0\n",
      "_________________________________________________________________\n"
     ]
    }
   ],
   "source": [
    "model.summary()"
   ]
  },
  {
   "cell_type": "code",
   "execution_count": 6,
   "metadata": {},
   "outputs": [],
   "source": [
    "df = pd.read_csv(\"dataset/swat-2015-data.csv\", delimiter=\";\", decimal=\",\")\n",
    "\n",
    "df = df.drop(\"Normal/Attack\", axis=1)\n",
    "df = df.drop(\"Timestamp\", axis=1)"
   ]
  },
  {
   "cell_type": "code",
   "execution_count": 8,
   "metadata": {},
   "outputs": [],
   "source": [
    "features_considered = ['FIT101', 'MV101', 'P101', 'P102', 'MV201', 'P201', 'P202', 'P203', 'P204', 'P206', 'MV301', 'MV302', 'MV303', 'MV304', 'P301', 'P302', 'P401', 'P402', 'P403', 'P404', 'UV401', 'P501', 'P502', 'P601', 'P602', 'P603']"
   ]
  },
  {
   "cell_type": "code",
   "execution_count": 9,
   "metadata": {},
   "outputs": [],
   "source": [
    "train_df = train_df[features_considered]\n",
    "test_df = test_df[features_considered]\n",
    "\n",
    "scaler = MinMaxScaler()\n",
    "scaler.fit(train_df)\n",
    "columns = train_df.columns\n",
    "\n",
    "data = scaler.transform(train_df)\n",
    "train_df = pd.DataFrame(data)\n",
    "train_df.columns = columns\n",
    "\n",
    "data = scaler.transform(test_df)\n",
    "test_df = pd.DataFrame(data)\n",
    "test_df.columns = columns"
   ]
  },
  {
   "cell_type": "code",
   "execution_count": 10,
   "metadata": {},
   "outputs": [],
   "source": [
    "TIME_STEPS = 24\n",
    "# Generated training sequences for use in the model.\n",
    "def create_sequences(values, time_steps=TIME_STEPS):\n",
    "    output = []\n",
    "    for i in range(len(values) - time_steps + 1):\n",
    "        output.append(values[i : (i + time_steps)])\n",
    "    return np.stack(output)"
   ]
  },
  {
   "cell_type": "code",
   "execution_count": 11,
   "metadata": {},
   "outputs": [],
   "source": [
    "x_train = create_sequences(train_df.values)\n",
    "x_test = create_sequences(test_df.values)"
   ]
  },
  {
   "cell_type": "code",
   "execution_count": 17,
   "metadata": {},
   "outputs": [
    {
     "name": "stdout",
     "output_type": "stream",
     "text": [
      "3094/3094 [==============================] - 7s 2ms/step - loss: 1.8467e-04 - mean_absolute_error: 0.0011\n"
     ]
    }
   ],
   "source": [
    "result = model.evaluate(x_test, x_test)"
   ]
  },
  {
   "cell_type": "code",
   "execution_count": 18,
   "metadata": {},
   "outputs": [
    {
     "name": "stdout",
     "output_type": "stream",
     "text": [
      "{'loss': 0.00018467206973582506, 'mean_absolute_error': 0.0010899975895881653}\n"
     ]
    }
   ],
   "source": [
    "print(dict(zip(model.metrics_names, result)))"
   ]
  },
  {
   "cell_type": "code",
   "execution_count": 20,
   "metadata": {},
   "outputs": [
    {
     "name": "stdout",
     "output_type": "stream",
     "text": [
      "3094/3094 [==============================] - 6s 2ms/step\n"
     ]
    }
   ],
   "source": [
    "prediction = model.predict(x_test, batch_size=32)"
   ]
  },
  {
   "cell_type": "code",
   "execution_count": 21,
   "metadata": {},
   "outputs": [
    {
     "name": "stdout",
     "output_type": "stream",
     "text": [
      "[[[0.         0.50134873 0.99828637 ... 0.         0.         0.        ]\n",
      "  [0.         0.5015062  0.9988552  ... 0.         0.         0.        ]\n",
      "  [0.         0.5004274  1.0002838  ... 0.         0.         0.        ]\n",
      "  ...\n",
      "  [0.         0.5021753  0.9991885  ... 0.         0.         0.        ]\n",
      "  [0.         0.50193644 0.9951366  ... 0.         0.         0.        ]\n",
      "  [0.         0.5014262  0.9941565  ... 0.         0.         0.        ]]\n",
      "\n",
      " [[0.         0.50134873 0.99828637 ... 0.         0.         0.        ]\n",
      "  [0.         0.5015062  0.9988552  ... 0.         0.         0.        ]\n",
      "  [0.         0.5004274  1.0002838  ... 0.         0.         0.        ]\n",
      "  ...\n",
      "  [0.         0.5021753  0.9991885  ... 0.         0.         0.        ]\n",
      "  [0.         0.50193644 0.9951366  ... 0.         0.         0.        ]\n",
      "  [0.         0.5014262  0.9941565  ... 0.         0.         0.        ]]\n",
      "\n",
      " [[0.         0.50134873 0.99828637 ... 0.         0.         0.        ]\n",
      "  [0.         0.5015062  0.9988552  ... 0.         0.         0.        ]\n",
      "  [0.         0.5004274  1.0002838  ... 0.         0.         0.        ]\n",
      "  ...\n",
      "  [0.         0.5021753  0.9991885  ... 0.         0.         0.        ]\n",
      "  [0.         0.50193644 0.9951366  ... 0.         0.         0.        ]\n",
      "  [0.         0.5014262  0.9941565  ... 0.         0.         0.        ]]\n",
      "\n",
      " ...\n",
      "\n",
      " [[0.9114425  0.9998207  0.9995046  ... 0.         0.         0.        ]\n",
      "  [0.9185672  1.0003583  1.0008209  ... 0.         0.         0.        ]\n",
      "  [0.9257584  0.9998421  1.0014421  ... 0.         0.         0.        ]\n",
      "  ...\n",
      "  [0.8987759  1.000994   1.000395   ... 0.         0.         0.        ]\n",
      "  [0.898716   0.9999215  0.99185663 ... 0.         0.         0.        ]\n",
      "  [0.89959097 0.9991393  0.9911628  ... 0.         0.         0.        ]]\n",
      "\n",
      " [[0.9201123  0.99982893 0.9994058  ... 0.         0.         0.        ]\n",
      "  [0.92796123 1.000085   1.000476   ... 0.         0.         0.        ]\n",
      "  [0.93515813 0.99968076 1.0009626  ... 0.         0.         0.        ]\n",
      "  ...\n",
      "  [0.8956877  1.0006948  1.0003458  ... 0.         0.         0.        ]\n",
      "  [0.8976445  0.99978983 0.9920333  ... 0.         0.         0.        ]\n",
      "  [0.90085614 0.99894524 0.9912578  ... 0.         0.         0.        ]]\n",
      "\n",
      " [[0.9276949  0.9998384  0.9992594  ... 0.         0.         0.        ]\n",
      "  [0.93599486 0.99983656 1.0001392  ... 0.         0.         0.        ]\n",
      "  [0.943007   0.99951446 1.000493   ... 0.         0.         0.        ]\n",
      "  ...\n",
      "  [0.8934561  1.000392   1.000292   ... 0.         0.         0.        ]\n",
      "  [0.8970829  0.9996538  0.9921955  ... 0.         0.         0.        ]\n",
      "  [0.9022421  0.9987527  0.99133396 ... 0.         0.         0.        ]]]\n"
     ]
    }
   ],
   "source": [
    "print(prediction)"
   ]
  },
  {
   "cell_type": "code",
   "execution_count": 22,
   "metadata": {},
   "outputs": [
    {
     "name": "stdout",
     "output_type": "stream",
     "text": [
      "[[[0.         0.5        1.         ... 0.         0.         0.        ]\n",
      "  [0.         0.5        1.         ... 0.         0.         0.        ]\n",
      "  [0.         0.5        1.         ... 0.         0.         0.        ]\n",
      "  ...\n",
      "  [0.         0.5        1.         ... 0.         0.         0.        ]\n",
      "  [0.         0.5        1.         ... 0.         0.         0.        ]\n",
      "  [0.         0.5        1.         ... 0.         0.         0.        ]]\n",
      "\n",
      " [[0.         0.5        1.         ... 0.         0.         0.        ]\n",
      "  [0.         0.5        1.         ... 0.         0.         0.        ]\n",
      "  [0.         0.5        1.         ... 0.         0.         0.        ]\n",
      "  ...\n",
      "  [0.         0.5        1.         ... 0.         0.         0.        ]\n",
      "  [0.         0.5        1.         ... 0.         0.         0.        ]\n",
      "  [0.         0.5        1.         ... 0.         0.         0.        ]]\n",
      "\n",
      " [[0.         0.5        1.         ... 0.         0.         0.        ]\n",
      "  [0.         0.5        1.         ... 0.         0.         0.        ]\n",
      "  [0.         0.5        1.         ... 0.         0.         0.        ]\n",
      "  ...\n",
      "  [0.         0.5        1.         ... 0.         0.         0.        ]\n",
      "  [0.         0.5        1.         ... 0.         0.         0.        ]\n",
      "  [0.         0.5        1.         ... 0.         0.         0.        ]]\n",
      "\n",
      " ...\n",
      "\n",
      " [[0.90234499 1.         1.         ... 0.         0.         0.        ]\n",
      "  [0.92124599 1.         1.         ... 0.         0.         0.        ]\n",
      "  [0.93232977 1.         1.         ... 0.         0.         0.        ]\n",
      "  ...\n",
      "  [0.89627816 1.         1.         ... 0.         0.         0.        ]\n",
      "  [0.89207793 1.         1.         ... 0.         0.         0.        ]\n",
      "  [0.88694441 1.         1.         ... 0.         0.         0.        ]]\n",
      "\n",
      " [[0.92124599 1.         1.         ... 0.         0.         0.        ]\n",
      "  [0.93232977 1.         1.         ... 0.         0.         0.        ]\n",
      "  [0.94551367 1.         1.         ... 0.         0.         0.        ]\n",
      "  ...\n",
      "  [0.89207793 1.         1.         ... 0.         0.         0.        ]\n",
      "  [0.88694441 1.         1.         ... 0.         0.         0.        ]\n",
      "  [0.88461079 1.         1.         ... 0.         0.         0.        ]]\n",
      "\n",
      " [[0.93232977 1.         1.         ... 0.         0.         0.        ]\n",
      "  [0.94551367 1.         1.         ... 0.         0.         0.        ]\n",
      "  [0.95706446 1.         1.         ... 0.         0.         0.        ]\n",
      "  ...\n",
      "  [0.88694441 1.         1.         ... 0.         0.         0.        ]\n",
      "  [0.88461079 1.         1.         ... 0.         0.         0.        ]\n",
      "  [0.88414414 1.         1.         ... 0.         0.         0.        ]]]\n"
     ]
    }
   ],
   "source": [
    "print(x_test)"
   ]
  }
 ],
 "metadata": {
  "kernelspec": {
   "display_name": "env",
   "language": "python",
   "name": "python3"
  },
  "language_info": {
   "codemirror_mode": {
    "name": "ipython",
    "version": 3
   },
   "file_extension": ".py",
   "mimetype": "text/x-python",
   "name": "python",
   "nbconvert_exporter": "python",
   "pygments_lexer": "ipython3",
   "version": "3.9.0"
  },
  "orig_nbformat": 4
 },
 "nbformat": 4,
 "nbformat_minor": 2
}
